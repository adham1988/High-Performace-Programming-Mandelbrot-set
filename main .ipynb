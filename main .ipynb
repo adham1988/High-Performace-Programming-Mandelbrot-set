{
 "cells": [
  {
   "cell_type": "markdown",
   "metadata": {},
   "source": [
    "# Version 1 (naive)"
   ]
  },
  {
   "cell_type": "code",
   "execution_count": 42,
   "metadata": {},
   "outputs": [
    {
     "name": "stdout",
     "output_type": "stream",
     "text": [
      "\n",
      "    Description of function mandel()\n",
      "    mandel function takes some variables \"(x, y, max_iters\n",
      "    c equal to the coordinate of the box,initial conditions for z = 0\n",
      "    \"for\" loop- it runs from i = 1 to i = max_iters\n",
      "    if condition tests if the magnitude is larger than 2\n",
      "    it will return the number of iterations it took before z became > 2\n",
      "    \n",
      "\n",
      "    Description of create fractal()\n",
      "    It loops across all the image pixels\n",
      "    And calls mandel()\n",
      "    Every single pixel gets a numerical value of iteration i\n",
      "    the point image[y,x] gets colored based of this value\n",
      "    Lastly, the numpy array image will be stored in hdf5 file\n",
      "    \n"
     ]
    },
    {
     "data": {
      "image/png": "[encoded data removed]",
      "text/plain": [
       "<Figure size 432x288 with 1 Axes>"
      ]
     },
     "metadata": {
      "needs_background": "light"
     },
     "output_type": "display_data"
    }
   ],
   "source": [
    "import numpy as np\n",
    "from pylab import imshow, show\n",
    "import matplotlib.pyplot as plt\n",
    "import h5py\n",
    "import line_profiler\n",
    "profile = line_profiler.LineProfiler()\n",
    "# this variable sets how many iterations we perform\n",
    "max_iters = 50\n",
    "\n",
    "\n",
    "def mandel(x, y, max_iters):\n",
    "    \"\"\"\n",
    "    Description of function mandel()\n",
    "    mandel function takes some variables \"(x, y, max_iters\n",
    "    c equal to the coordinate of the box,initial conditions for z = 0\n",
    "    \"for\" loop- it runs from i = 1 to i = max_iters\n",
    "    if condition tests if the magnitude is larger than 2\n",
    "    it will return the number of iterations it took before z became > 2\n",
    "    \"\"\"\n",
    "    c, z = complex(x, y), 0.0j\n",
    "    for i in range(max_iters):\n",
    "        z = z*z + c\n",
    "        if (z.real*z.real + z.imag*z.imag) >= 2:\n",
    "            return i\n",
    "    return max_iters\n",
    "\n",
    "# @profile\n",
    "\n",
    "\n",
    "def create_fractal(min_x, max_x, min_y, max_y, image, iters):\n",
    "    \"\"\"\n",
    "    Description of create fractal()\n",
    "    It loops across all the image pixels\n",
    "    And calls mandel()\n",
    "    Every single pixel gets a numerical value of iteration i\n",
    "    the point image[y,x] gets colored based of this value\n",
    "    Lastly, the numpy array image will be stored in hdf5 file\n",
    "    \"\"\"\n",
    "    height, width = image.shape[0], image.shape[1]\n",
    "    pixel_size_x = (max_x - min_x) / width\n",
    "    pixel_size_y = (max_y - min_y) / height\n",
    "    for x in range(width):\n",
    "        real = min_x + x * pixel_size_x\n",
    "        for y in range(height):\n",
    "            imag = min_y + y * pixel_size_y\n",
    "            color = mandel(real, imag, iters)\n",
    "            image[y, x] = color\n",
    "    with h5py.File('naiveVersion.hdf5', 'w') as hdf:\n",
    "        hdf.create_dataset('dataset_1', data=image)\n",
    "\n",
    "# this generates the image the data will be saved to\n",
    "image = np.zeros((400, 400), dtype=np.uint8)\n",
    "# this calls the main function and gives c mesh limits\n",
    "create_fractal(-2, 1.5, -1.5, 1.5, image, max_iters)\n",
    "print(mandel.__doc__)\n",
    "print(create_fractal.__doc__)\n",
    "imshow(image)  # this plots the image\n",
    "plt.savefig('version1.png', dpi=300, bbox_inches='tight')\n",
    "show()\n"
   ]
  },
  {
   "cell_type": "markdown",
   "metadata": {},
   "source": [
    "# Profiling and benchmarking"
   ]
  },
  {
   "cell_type": "code",
   "execution_count": 44,
   "metadata": {},
   "outputs": [
    {
     "name": "stdout",
     "output_type": "stream",
     "text": [
      "Timer unit: 1e-06 s\n",
      "\n",
      "Total time: 35.1547 s\n",
      "File: <ipython-input-43-f561127e7c72>\n",
      "Function: create_fractal at line 55\n",
      "\n",
      "Line #      Hits         Time  Per Hit   % Time  Line Contents\n",
      "==============================================================\n",
      "    55                                           @profile\n",
      "    56                                           def create_fractal(min_x, max_x, min_y, max_y, image, iters):\n",
      "    57                                           \n",
      "    58         1         10.0     10.0      0.0    height,width  = image.shape[0],image.shape[1]\n",
      "    59                                             \n",
      "    60                                             \n",
      "    61         1          5.0      5.0      0.0    pixel_size_x,pixel_size_y = (max_x - min_x) / width ,(max_y - min_y) / height\n",
      "    62                                               \n",
      "    63                                               \n",
      "    64      1001       2133.0      2.1      0.0    for x in range(width):            # loops through all the points in a row\n",
      "    65      1000       2774.0      2.8      0.0      real = min_x + x * pixel_size_x\n",
      "    66   1001000    2175650.0      2.2      6.2      for y in range(height):         # loops through all the points in a column\n",
      "    67   1000000    2526607.0      2.5      7.2        imag = min_y + y * pixel_size_y\n",
      "    68   1000000   26760247.0     26.8     76.1        color = mandel(real, imag, iters) #this calls the mandel function on each point on the grid\n",
      "    69   1000000    3680589.0      3.7     10.5        image[y, x] = color #color the point (pixel) based on iteration value\n",
      "    70                                               \n",
      "    71         1       1677.0   1677.0      0.0    with h5py.File('/home/adham/Desktop/mandel/naiveVersion.hdf5', 'w') as hdf:\n",
      "    72         1       5010.0   5010.0      0.0        hdf.create_dataset('dataset_1', data=image) #creating dataset using the file object hf \n",
      "\n"
     ]
    }
   ],
   "source": [
    "profile.print_stats()"
   ]
  },
  {
   "cell_type": "code",
   "execution_count": 11,
   "metadata": {},
   "outputs": [
    {
     "name": "stdout",
     "output_type": "stream",
     "text": [
      "1.87 s ± 15.1 ms per loop (mean ± std. dev. of 7 runs, 1 loop each)\n"
     ]
    }
   ],
   "source": [
    "%timeit create_fractal(-2, 1.5, -1.5, 1.5, image, max_iters)"
   ]
  },
  {
   "cell_type": "markdown",
   "metadata": {},
   "source": [
    "# Test"
   ]
  },
  {
   "cell_type": "code",
   "execution_count": 8,
   "metadata": {},
   "outputs": [
    {
     "name": "stdout",
     "output_type": "stream",
     "text": [
      "Trying:\n",
      "    mandel(0,0,10) \n",
      "Expecting:\n",
      "    10\n",
      "ok\n",
      "Trying:\n",
      "    mandel(1,1,10)  \n",
      "Expecting:\n",
      "    0\n",
      "ok\n",
      "Trying:\n",
      "    mandel(0.5,-0.5,10) \n",
      "Expecting:\n",
      "    2\n",
      "ok\n",
      "Trying:\n",
      "    mandel(-0.5,0.5,10) \n",
      "Expecting:\n",
      "    10\n",
      "ok\n",
      "Trying:\n",
      "    mandel(-1,-1,10) \n",
      "Expecting:\n",
      "    0\n",
      "ok\n",
      "2 items had no tests:\n",
      "    __main__\n",
      "    __main__._test\n",
      "1 items passed all tests:\n",
      "   5 tests in __main__.mandel\n",
      "5 tests in 3 items.\n",
      "5 passed and 0 failed.\n",
      "Test passed.\n"
     ]
    }
   ],
   "source": [
    "def mandel(x, y, max_iters):\n",
    "    ''' \n",
    "    This function calculates recursively and \n",
    "    returns the mandelbrot of a positive number. \n",
    "    Define input and expected output: \n",
    "    >>> mandel(0,0,10) \n",
    "    10\n",
    "    >>> mandel(1,1,10)  \n",
    "    0\n",
    "    >>> mandel(0.5,-0.5,10) \n",
    "    2\n",
    "    >>> mandel(-0.5,0.5,10) \n",
    "    10\n",
    "    >>> mandel(-1,-1,10) \n",
    "    0\n",
    "    ''' \n",
    "    c,z = complex(x, y),0.0j   \n",
    "    for i in range(max_iters):  \n",
    "      z = z*z + c\n",
    "      if (z.real*z.real + z.imag*z.imag) >= 2:\n",
    "          return i    \n",
    "    return max_iters\n",
    "\n",
    "def _test():\n",
    "    import doctest \n",
    "    doctest.testmod(verbose=True)\n",
    "    \n",
    "if __name__== '__main__':\n",
    "    _test()\n",
    "    "
   ]
  },
  {
   "cell_type": "markdown",
   "metadata": {},
   "source": [
    "# Version 2 (Vectorised Numpy)"
   ]
  },
  {
   "cell_type": "code",
   "execution_count": 37,
   "metadata": {},
   "outputs": [
    {
     "name": "stdout",
     "output_type": "stream",
     "text": [
      "\n",
      "    This code is before code optimization\n",
      "    Description of function create_fractal()\n",
      "    In this version numy vectorization is used\n",
      "    It translates the vector and matrix operations x,y\n",
      "    Then it returns mesh grid starting with based on parameters\n",
      "    x min, x max, y min, ymax and the x and y incremental values\n",
      "    which are respectively x and y pixel sizes\n",
      "    It iterates accross the image matrix\n",
      "    each pixels values with a magnitude larger than 2\n",
      "    will escape and cannot be part of the set thus it's value will set\n",
      "    to be false\n",
      "    finally using imagio library the matrix image will be colored\n",
      "    based on the value of each pixel which is either true = white\n",
      "    or false = black (not a part of mandel)\n",
      "    \n"
     ]
    }
   ],
   "source": [
    "# code before optimization\n",
    "import numpy as np\n",
    "import h5py\n",
    "from imageio import imwrite\n",
    "from PIL import Image\n",
    "import time\n",
    "\n",
    "max_iters = 50  # max iterations\n",
    "width = 400  # dimension used for height and width\n",
    "height = 400\n",
    "min_x = -2\n",
    "max_x = 1.5\n",
    "min_y = -2.0\n",
    "max_y = 1.0\n",
    "pixel_size_x = (max_x - min_x) / width\n",
    "pixel_size_y = (max_y - min_y) / height\n",
    "\n",
    "\n",
    "def create_fractal():\n",
    "    \"\"\"\n",
    "    This code is before code optimization\n",
    "    Description of function create_fractal()\n",
    "    In this version numpy vectorization is used\n",
    "    It translates the vector and matrix operations x,y\n",
    "    Then it returns mesh grid starting with based on parameters\n",
    "    x min, x max, y min, ymax and the x and y incremental values\n",
    "    which are respectively x and y pixel sizes\n",
    "    It iterates accross the image matrix\n",
    "    each pixels values with a magnitude larger than 2\n",
    "    will escape and cannot be part of the set thus it's value will set\n",
    "    to be false\n",
    "    finally using imagio library the matrix image will be colored\n",
    "    based on the value of each pixel which is either true = white\n",
    "    or false = black (not a part of mandel)\n",
    "    \"\"\"\n",
    "    # initial z and c values\n",
    "    z = np.zeros((width, height), dtype=np.complex)\n",
    "    # take x and y values and return a mesh grid\n",
    "    x, y = np.mgrid[min_x:max_x:pixel_size_x, min_y:max_y:pixel_size_y]\n",
    "    c = y+1j*x\n",
    "    # initialization image matrix with all entry =  true values\n",
    "    image = np.full((width, height), True, dtype=bool)\n",
    "    # do iterations and put the points that diverges = false\n",
    "    for i in range(max_iters):\n",
    "        z[image] = z[image]*z[image] + c[image]\n",
    "        image[np.abs(z) >= 2] = False\n",
    "    with h5py.File('VectorizedVersion.hdf5', 'w') as hdf:\n",
    "        hdf.create_dataset('dataset_1', data=image)\n",
    "    # give the image matrix color based on the entries values\n",
    "    imwrite('version2.png', np.uint8(image*255))\n",
    "    \n",
    "\n",
    "create_fractal()\n",
    "print(create_fractal.__doc__)\n",
    "time.sleep(1) # just give the image 1 ms to be saved\n",
    "im = Image.open(\"version2.png\")\n",
    "im.show()\n"
   ]
  },
  {
   "cell_type": "code",
   "execution_count": 38,
   "metadata": {},
   "outputs": [
    {
     "name": "stdout",
     "output_type": "stream",
     "text": [
      "913 ms ± 34 ms per loop (mean ± std. dev. of 7 runs, 1 loop each)\n"
     ]
    }
   ],
   "source": [
    "%timeit create_fractal()"
   ]
  },
  {
   "cell_type": "code",
   "execution_count": 35,
   "metadata": {},
   "outputs": [
    {
     "name": "stdout",
     "output_type": "stream",
     "text": [
      "\n",
      "    This code is after code optimization\n",
      "    Description of function create_fractal()\n",
      "    In this version numy vectorization is used\n",
      "    It translates the vector and matrix operations x,y\n",
      "    Then it returns mesh grid starting with based on parameters\n",
      "    x min, x max, y min, ymax and the x and y incremental values\n",
      "    which are respectively x and y pixel sizes\n",
      "    It iterates accross the image matrix\n",
      "    each pixels values with a magnitude larger than 2\n",
      "    will escape and cannot be part of the set thus it's value will set\n",
      "    to be false\n",
      "    finally using imagio library the matrix image will be colored\n",
      "    based on the value of each pixel which is either true = white\n",
      "    or false = black (not a part of mandel)\n",
      "    \n"
     ]
    }
   ],
   "source": [
    "# code after optimization\n",
    "import numpy as np\n",
    "import h5py\n",
    "from imageio import imwrite\n",
    "from PIL import Image\n",
    "import time\n",
    "\n",
    "width = 400  # dimension used for height and width\n",
    "height = 400\n",
    "\n",
    "def create_fractal(min_x, max_x, min_y, max_y, image, max_iters):\n",
    "    \"\"\"\n",
    "    This code is after code optimization\n",
    "    Description of function create_fractal()\n",
    "    In this version numy vectorization is used\n",
    "    It translates the vector and matrix operations x,y\n",
    "    Then it returns mesh grid starting with based on parameters\n",
    "    x min, x max, y min, ymax and the x and y incremental values\n",
    "    which are respectively x and y pixel sizes\n",
    "    It iterates accross the image matrix\n",
    "    each pixels values with a magnitude larger than 2\n",
    "    will escape and cannot be part of the set thus it's value will set\n",
    "    to be false\n",
    "    finally using imagio library the matrix image will be colored\n",
    "    based on the value of each pixel which is either true = white\n",
    "    or false = black (not a part of mandel)\n",
    "    \"\"\"\n",
    "    pixel_size_x = (max_x - min_x) / width\n",
    "    pixel_size_y = (max_y - min_y) / height\n",
    "    # initial z and c values\n",
    "    z = np.zeros((width, height), dtype=np.complex)\n",
    "    # take x and y values and return a mesh grid\n",
    "    x, y = np.mgrid[min_x:max_x:pixel_size_x, min_y:max_y:pixel_size_y]\n",
    "    c = y+1j*x\n",
    "    # do iterations and put the points that diverges = false\n",
    "    for i in range(max_iters):\n",
    "        z[image] = z[image]*z[image] + c[image]\n",
    "        #print(z[image][1600])\n",
    "        #print(c[image])\n",
    "        image[np.abs(z) >= 2] = False\n",
    "    # with h5py.File('VectorizedVersion.hdf5', 'w') as hdf:\n",
    "        # hdf.create_dataset('dataset_1', data=image)\n",
    "    # give the image matrix color based on the entries values\n",
    "    imwrite('version2.png', np.uint8(image*255))\n",
    "\n",
    "# initialization image matrix with all entry =  true values\n",
    "image = np.full((width, height), True, dtype=bool)\n",
    "create_fractal(-1.5, 1.5, -2.0, 1.0, image, 50)\n",
    "print(create_fractal.__doc__)\n",
    "time.sleep(1) # just give the image 1 ms to be saved\n",
    "im = Image.open(\"version2.png\")\n",
    "im.show()\n"
   ]
  },
  {
   "cell_type": "markdown",
   "metadata": {},
   "source": [
    "# Profiling and benchmarking"
   ]
  },
  {
   "cell_type": "code",
   "execution_count": 36,
   "metadata": {},
   "outputs": [
    {
     "name": "stdout",
     "output_type": "stream",
     "text": [
      "657 ms ± 9.53 ms per loop (mean ± std. dev. of 7 runs, 1 loop each)\n"
     ]
    }
   ],
   "source": [
    "%timeit create_fractal(-1.5, 1.5, -2.0, 1.0, image, 80)"
   ]
  },
  {
   "cell_type": "markdown",
   "metadata": {},
   "source": [
    "# Test"
   ]
  },
  {
   "cell_type": "code",
   "execution_count": 7,
   "metadata": {},
   "outputs": [
    {
     "name": "stdout",
     "output_type": "stream",
     "text": [
      "Trying:\n",
      "    check_arrays(image,expected) \n",
      "Expecting:\n",
      "    1\n",
      "ok\n",
      "3 items had no tests:\n",
      "    __main__\n",
      "    __main__._test\n",
      "    __main__.create_fractal\n",
      "1 items passed all tests:\n",
      "   1 tests in __main__.check_arrays\n",
      "1 tests in 4 items.\n",
      "1 passed and 0 failed.\n",
      "Test passed.\n"
     ]
    }
   ],
   "source": [
    "import numpy as np\n",
    "width = 3  # dimension used for height and width\n",
    "height = 3\n",
    "\n",
    "\n",
    "def create_fractal(min_x, max_x, min_y, max_y, image, max_iters):\n",
    "    pixel_size_x = (max_x - min_x) / width\n",
    "    pixel_size_y = (max_y - min_y) / height\n",
    "    # initial z and c values\n",
    "    z = np.zeros((width, height), dtype=np.complex)\n",
    "    # take x and y values and return a mesh grid\n",
    "    x, y = np.mgrid[min_x:max_x:pixel_size_x, min_y:max_y:pixel_size_y]\n",
    "    c = y+1j*x\n",
    "    # do iterations and put the points that diverges = false\n",
    "    for i in range(max_iters):\n",
    "        z[image] = z[image]*z[image] + c[image]\n",
    "        image[np.abs(z) >= 2] = False\n",
    "image = np.full((width, height), True, dtype=bool)\n",
    "create_fractal(-1.5, 1.5, -2.0, 1.0, image, 3)\n",
    "\n",
    "\n",
    "expected = [[False, False, False],\n",
    "            [False,  True,  True],\n",
    "            [False,  True,  True]]\n",
    "\n",
    "def check_arrays(a,b):\n",
    "    ''' \n",
    "    This function calculates recursively and \n",
    "    returns the mandelbrot of a positive number. \n",
    "    Define input and expected output: \n",
    "    >>> check_arrays(image,expected) \n",
    "    1\n",
    "    '''\n",
    "    if (a==b).all():\n",
    "        return 1\n",
    "    else:\n",
    "        return 0\n",
    "\n",
    "def _test():\n",
    "    import doctest\n",
    "    doctest.testmod(verbose=True)\n",
    "    \n",
    "if __name__== '__main__':\n",
    "    _test()\n",
    "    "
   ]
  },
  {
   "cell_type": "markdown",
   "metadata": {},
   "source": [
    "# Version 3 (multiprocessing)"
   ]
  },
  {
   "cell_type": "code",
   "execution_count": 2,
   "metadata": {},
   "outputs": [
    {
     "name": "stdout",
     "output_type": "stream",
     "text": [
      "\n",
      "    Description of function mandelbrot()\n",
      "    mandel function takes parameter z (complex)\n",
      "    check values for each pixel\n",
      "    \"for\" loop- it runs from i = 1 to i = max_iters\n",
      "    if condition tests if the magnitude is larger than 2\n",
      "    it will return the number of iterations it took before z became > 2\n",
      "    \n",
      "\n",
      "    Description of function create_fractal()\n",
      "    The multiprocessing will create moultiprocessing pool with 4 processes\n",
      "    Pool uses the function map() that call the function mandelbrot()\n",
      "    to perform the computation on every single pixel\n",
      "    check values for each pixel\n",
      "    Using the multiprocessing will make it faster\n",
      "    when the map() function calls mandelbrot()\n",
      "    the work will be split up and distributed in parallel\n",
      "    then the result will be collected in the list image\n",
      "    Lastly the list image will be reshaped to be a matrix and\n",
      "    then it will be build as an image using matplotlib library\n",
      "    The image can be seen below\n",
      "    \n"
     ]
    },
    {
     "data": {
      "image/png": "[encoded data removed]",
      "text/plain": [
       "<Figure size 432x288 with 1 Axes>"
      ]
     },
     "metadata": {
      "needs_background": "light"
     },
     "output_type": "display_data"
    }
   ],
   "source": [
    "from multiprocessing import Pool\n",
    "from numpy import linspace, reshape\n",
    "from matplotlib import pyplot\n",
    "import h5py\n",
    "max_iters = 50  # max iterations\n",
    "\n",
    "\n",
    "def mandelbrot(z):\n",
    "    \"\"\"\n",
    "    Description of function mandelbrot()\n",
    "    mandel function takes parameter z (complex)\n",
    "    check values for each pixel\n",
    "    \"for\" loop- it runs from i = 1 to i = max_iters\n",
    "    if condition tests if the magnitude is larger than 2\n",
    "    it will return the number of iterations it took before z became > 2\n",
    "    \"\"\"\n",
    "    c = z\n",
    "    for i in range(max_iters):\n",
    "        z = z*z + c\n",
    "        if abs(z) > 2:\n",
    "            return i\n",
    "    return max_iters\n",
    "\n",
    "\n",
    "def create_fractal():\n",
    "    \"\"\"\n",
    "    Description of function create_fractal()\n",
    "    The multiprocessing will create moultiprocessing pool with 4 processes\n",
    "    Pool uses the function map() that call the function mandelbrot()\n",
    "    to perform the computation on every single pixel\n",
    "    check values for each pixel\n",
    "    Using the multiprocessing will make it faster\n",
    "    when the map() function calls mandelbrot()\n",
    "    the work will be split up and distributed in parallel\n",
    "    then the result will be collected in the list image\n",
    "    Lastly the list image will be reshaped to be a matrix and\n",
    "    then it will be build as an image using matplotlib library\n",
    "    The image can be seen below\n",
    "    \"\"\"\n",
    "    xmin, xmax, ymin, ymax, width, height = -2.0, 1, -1.5, 1.5, 1000, 1000\n",
    "    # Mesh limits\n",
    "    X = linspace(xmin, xmax, width)\n",
    "    Y = linspace(ymin, ymax, height)\n",
    "    # creates a multi-process pool, with 4 processes\n",
    "    p = Pool(4)\n",
    "    Z = [complex(x, y) for y in Y for x in X]\n",
    "    # map() makes calls to mandelbrot() by plitting up the work\n",
    "    # and distributing it in parallel using the pool.\n",
    "    image = p.map(mandelbrot, Z)\n",
    "    # The results are collected back together into a single list image\n",
    "    # change the shape of list to rectangular array\n",
    "    image = reshape(image, (width, height))\n",
    "    with h5py.File('multyVersion.hdf5', 'w') as hdf:\n",
    "        hdf.create_dataset('dataset_1', data=image) #creating dataset using the file object hf\n",
    "    print (mandelbrot.__doc__)\n",
    "    print (create_fractal.__doc__)\n",
    "    # plot the image\n",
    "    pyplot.imshow(image)\n",
    "    pyplot.savefig('multi.pdf', dpi=300, bbox_inches='tight')\n",
    "    pyplot.show()\n",
    "\n",
    "create_fractal()\n",
    "\n",
    "    "
   ]
  },
  {
   "cell_type": "markdown",
   "metadata": {},
   "source": [
    "# Profiling and benchmarking"
   ]
  },
  {
   "cell_type": "code",
   "execution_count": 94,
   "metadata": {},
   "outputs": [
    {
     "data": {
      "image/png": "[encoded data removed]",
      "text/plain": [
       "<Figure size 432x288 with 1 Axes>"
      ]
     },
     "metadata": {
      "needs_background": "light"
     },
     "output_type": "display_data"
    }
   ],
   "source": [
    "# this implementation is just for profiling \n",
    "from multiprocessing import Pool\n",
    "from numpy           import linspace, reshape\n",
    "from matplotlib      import pyplot\n",
    "import h5py\n",
    "import line_profiler\n",
    "profile = line_profiler.LineProfiler()\n",
    "\n",
    "max_iters =  50 # max iterations\n",
    "\n",
    "def mandelbrot(z): # check values for each pixel\n",
    "  c = z\n",
    "  for i in range(max_iters):\n",
    "    if abs(z)>2:return i  # return i if z diverges \n",
    "    z = z*z + c\n",
    "     \n",
    "  return max_iters         \n",
    "\n",
    "\n",
    "@profile\n",
    "def create_fractal():\n",
    "    xmin,xmax,ymin,ymax,width,height = -2.0, 1, -1.5, 1.5 ,1000, 1000\n",
    "    X = linspace(xmin,xmax,width) # lists of x and y\n",
    "    Y = linspace(ymin,ymax,height) # pixel co-ordinates\n",
    "    p = Pool(4) \n",
    "    Z = [complex(x,y) for y in Y for x in X]\n",
    "    image = p.map(mandelbrot,Z) \n",
    "    image = reshape(image, (width,height))\n",
    "    pyplot.imshow(image) \n",
    "    pyplot.show()\n",
    "\n",
    "create_fractal()\n",
    "    "
   ]
  },
  {
   "cell_type": "code",
   "execution_count": 95,
   "metadata": {},
   "outputs": [
    {
     "name": "stdout",
     "output_type": "stream",
     "text": [
      "Timer unit: 1e-06 s\n",
      "\n",
      "Total time: 16.6948 s\n",
      "File: <ipython-input-94-4ca381444336>\n",
      "Function: create_fractal at line 19\n",
      "\n",
      "Line #      Hits         Time  Per Hit   % Time  Line Contents\n",
      "==============================================================\n",
      "    19                                           @profile\n",
      "    20                                           def create_fractal():\n",
      "    21         1          6.0      6.0      0.0      xmin,xmax,ymin,ymax,width,height = -2.0, 1, -1.5, 1.5 ,1000, 1000\n",
      "    22         1       1183.0   1183.0      0.0      X = linspace(xmin,xmax,width) # lists of x and y\n",
      "    23         1       2591.0   2591.0      0.0      Y = linspace(ymin,ymax,height) # pixel co-ordinates\n",
      "    24         1     316171.0 316171.0      1.9      p = Pool(4) \n",
      "    25         1    2120352.0 2120352.0     12.7      Z = [complex(x,y) for y in Y for x in X]\n",
      "    26         1   12488800.0 12488800.0     74.8      image = p.map(mandelbrot,Z) \n",
      "    27         1     512678.0 512678.0      3.1      image = reshape(image, (width,height))\n",
      "    28         1     286473.0 286473.0      1.7      pyplot.imshow(image) \n",
      "    29         1     966502.0 966502.0      5.8      pyplot.show()\n",
      "\n"
     ]
    }
   ],
   "source": [
    "profile.print_stats()"
   ]
  },
  {
   "cell_type": "markdown",
   "metadata": {},
   "source": [
    "# Test "
   ]
  },
  {
   "cell_type": "code",
   "execution_count": 35,
   "metadata": {},
   "outputs": [
    {
     "name": "stdout",
     "output_type": "stream",
     "text": [
      "Trying:\n",
      "    mandelbrot(complex(0.7,-0.5),10)\n",
      "Expecting:\n",
      "    2\n",
      "ok\n",
      "Trying:\n",
      "    mandelbrot(complex(-0.7,-0.8),10)  \n",
      "Expecting:\n",
      "    3\n",
      "ok\n",
      "Trying:\n",
      "    mandelbrot(complex(1.2,0.5),10)\n",
      "Expecting:\n",
      "    1\n",
      "ok\n",
      "Trying:\n",
      "    mandelbrot(complex(1,-1.1),10) \n",
      "Expecting:\n",
      "    1\n",
      "ok\n",
      "Trying:\n",
      "    mandelbrot(complex(-0.9,1.2),10) \n",
      "Expecting:\n",
      "    2\n",
      "ok\n",
      "2 items had no tests:\n",
      "    __main__\n",
      "    __main__._test\n",
      "1 items passed all tests:\n",
      "   5 tests in __main__.mandelbrot\n",
      "5 tests in 3 items.\n",
      "5 passed and 0 failed.\n",
      "Test passed.\n"
     ]
    }
   ],
   "source": [
    "def mandelbrot(z,max_iters):\n",
    "    ''' \n",
    "    This function calculates recursively and \n",
    "    returns the mandelbrot of a positive number. \n",
    "    Define input and expected output: \n",
    "    >>> mandelbrot(complex(0.7,-0.5),10)\n",
    "    2\n",
    "    >>> mandelbrot(complex(-0.7,-0.8),10)  \n",
    "    3\n",
    "    >>> mandelbrot(complex(1.2,0.5),10)\n",
    "    1\n",
    "    >>> mandelbrot(complex(1,-1.1),10) \n",
    "    1\n",
    "    >>> mandelbrot(complex(-0.9,1.2),10) \n",
    "    2\n",
    "    ''' \n",
    "    c = z\n",
    "    for i in range(max_iters):\n",
    "        if abs(z)>2:\n",
    "            return i\n",
    "        z = z*z + c\n",
    "    return max_iters \n",
    "\n",
    "def _test():\n",
    "    import doctest \n",
    "    doctest.testmod(verbose=True)\n",
    "    \n",
    "if __name__== '__main__':\n",
    "    _test()\n",
    "    "
   ]
  }
 ],
 "metadata": {
  "kernelspec": {
   "display_name": "Python 3",
   "language": "python",
   "name": "python3"
  },
  "language_info": {
   "codemirror_mode": {
    "name": "ipython",
    "version": 3
   },
   "file_extension": ".py",
   "mimetype": "text/x-python",
   "name": "python",
   "nbconvert_exporter": "python",
   "pygments_lexer": "ipython3",
   "version": "3.7.4"
  }
 },
 "nbformat": 4,
 "nbformat_minor": 2
}
